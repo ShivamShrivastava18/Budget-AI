{
  "nbformat": 4,
  "nbformat_minor": 0,
  "metadata": {
    "colab": {
      "provenance": [],
      "gpuType": "T4"
    },
    "kernelspec": {
      "name": "python3",
      "display_name": "Python 3"
    },
    "language_info": {
      "name": "python"
    },
    "accelerator": "GPU"
  },
  "cells": [
    {
      "cell_type": "markdown",
      "source": [
        "# Check GPU"
      ],
      "metadata": {
        "id": "oz46zfB9efSf"
      }
    },
    {
      "cell_type": "code",
      "execution_count": null,
      "metadata": {
        "id": "5p5qN1Fl6zdL",
        "outputId": "45a36cc2-c853-4787-d283-ca3d7af9906e",
        "colab": {
          "base_uri": "https://localhost:8080/"
        }
      },
      "outputs": [
        {
          "output_type": "stream",
          "name": "stdout",
          "text": [
            "Thu Feb 15 18:08:52 2024       \n",
            "+---------------------------------------------------------------------------------------+\n",
            "| NVIDIA-SMI 535.104.05             Driver Version: 535.104.05   CUDA Version: 12.2     |\n",
            "|-----------------------------------------+----------------------+----------------------+\n",
            "| GPU  Name                 Persistence-M | Bus-Id        Disp.A | Volatile Uncorr. ECC |\n",
            "| Fan  Temp   Perf          Pwr:Usage/Cap |         Memory-Usage | GPU-Util  Compute M. |\n",
            "|                                         |                      |               MIG M. |\n",
            "|=========================================+======================+======================|\n",
            "|   0  Tesla T4                       Off | 00000000:00:04.0 Off |                    0 |\n",
            "| N/A   68C    P8              12W /  70W |      0MiB / 15360MiB |      0%      Default |\n",
            "|                                         |                      |                  N/A |\n",
            "+-----------------------------------------+----------------------+----------------------+\n",
            "                                                                                         \n",
            "+---------------------------------------------------------------------------------------+\n",
            "| Processes:                                                                            |\n",
            "|  GPU   GI   CI        PID   Type   Process name                            GPU Memory |\n",
            "|        ID   ID                                                             Usage      |\n",
            "|=======================================================================================|\n",
            "|  No running processes found                                                           |\n",
            "+---------------------------------------------------------------------------------------+\n"
          ]
        }
      ],
      "source": [
        "!nvidia-smi"
      ]
    },
    {
      "cell_type": "markdown",
      "source": [
        "# Installing the Repo and the Dependencies"
      ],
      "metadata": {
        "id": "Z2yICeIpd4Md"
      }
    },
    {
      "cell_type": "code",
      "source": [
        "!git clone https://github.com/AjaykrishnanR-axon/privateGPT.git\n",
        "!pip3 install -r /content/privateGPT/requirements.txt\n",
        "!pip install sentence_transformers\n",
        "!pip install huggingface_hub\n",
        "!CMAKE_ARGS=\"-DLLAMA_CUBLAS=on\" FORCE_CMAKE=1 pip install llama-cpp-python==0.1.76 --force-reinstall --upgrade --no-cache-dir\""
      ],
      "metadata": {
        "id": "-zHfNwW56-_w",
        "outputId": "09ac5a49-62b7-4aec-a671-72a1113bf3c9",
        "colab": {
          "base_uri": "https://localhost:8080/"
        }
      },
      "execution_count": null,
      "outputs": [
        {
          "output_type": "stream",
          "name": "stdout",
          "text": [
            "fatal: destination path 'privateGPT' already exists and is not an empty directory.\n",
            "Requirement already satisfied: langchain==0.0.228 in /usr/local/lib/python3.10/dist-packages (from -r /content/privateGPT/requirements.txt (line 1)) (0.0.228)\n",
            "Requirement already satisfied: gpt4all==1.0.3 in /usr/local/lib/python3.10/dist-packages (from -r /content/privateGPT/requirements.txt (line 2)) (1.0.3)\n",
            "Requirement already satisfied: chromadb==0.3.26 in /usr/local/lib/python3.10/dist-packages (from -r /content/privateGPT/requirements.txt (line 3)) (0.3.26)\n",
            "Requirement already satisfied: llama-cpp-python==0.1.68 in /usr/local/lib/python3.10/dist-packages (from -r /content/privateGPT/requirements.txt (line 4)) (0.1.68)\n",
            "Requirement already satisfied: urllib3==2.0.3 in /usr/local/lib/python3.10/dist-packages (from -r /content/privateGPT/requirements.txt (line 5)) (2.0.3)\n",
            "Requirement already satisfied: PyMuPDF==1.22.5 in /usr/local/lib/python3.10/dist-packages (from -r /content/privateGPT/requirements.txt (line 6)) (1.22.5)\n",
            "Requirement already satisfied: python-dotenv==1.0.0 in /usr/local/lib/python3.10/dist-packages (from -r /content/privateGPT/requirements.txt (line 7)) (1.0.0)\n",
            "Requirement already satisfied: unstructured==0.8.0 in /usr/local/lib/python3.10/dist-packages (from -r /content/privateGPT/requirements.txt (line 8)) (0.8.0)\n",
            "Requirement already satisfied: extract-msg==0.41.5 in /usr/local/lib/python3.10/dist-packages (from -r /content/privateGPT/requirements.txt (line 9)) (0.41.5)\n",
            "Requirement already satisfied: tabulate==0.9.0 in /usr/local/lib/python3.10/dist-packages (from -r /content/privateGPT/requirements.txt (line 10)) (0.9.0)\n",
            "Requirement already satisfied: pandoc==2.3 in /usr/local/lib/python3.10/dist-packages (from -r /content/privateGPT/requirements.txt (line 11)) (2.3)\n",
            "Requirement already satisfied: pypandoc==1.11 in /usr/local/lib/python3.10/dist-packages (from -r /content/privateGPT/requirements.txt (line 12)) (1.11)\n",
            "Requirement already satisfied: tqdm==4.65.0 in /usr/local/lib/python3.10/dist-packages (from -r /content/privateGPT/requirements.txt (line 13)) (4.65.0)\n",
            "Requirement already satisfied: PyYAML>=5.4.1 in /usr/local/lib/python3.10/dist-packages (from langchain==0.0.228->-r /content/privateGPT/requirements.txt (line 1)) (6.0.1)\n",
            "Requirement already satisfied: SQLAlchemy<3,>=1.4 in /usr/local/lib/python3.10/dist-packages (from langchain==0.0.228->-r /content/privateGPT/requirements.txt (line 1)) (2.0.25)\n",
            "Requirement already satisfied: aiohttp<4.0.0,>=3.8.3 in /usr/local/lib/python3.10/dist-packages (from langchain==0.0.228->-r /content/privateGPT/requirements.txt (line 1)) (3.9.3)\n",
            "Requirement already satisfied: async-timeout<5.0.0,>=4.0.0 in /usr/local/lib/python3.10/dist-packages (from langchain==0.0.228->-r /content/privateGPT/requirements.txt (line 1)) (4.0.3)\n",
            "Requirement already satisfied: dataclasses-json<0.6.0,>=0.5.7 in /usr/local/lib/python3.10/dist-packages (from langchain==0.0.228->-r /content/privateGPT/requirements.txt (line 1)) (0.5.14)\n",
            "Requirement already satisfied: langchainplus-sdk<0.0.21,>=0.0.20 in /usr/local/lib/python3.10/dist-packages (from langchain==0.0.228->-r /content/privateGPT/requirements.txt (line 1)) (0.0.20)\n",
            "Requirement already satisfied: numexpr<3.0.0,>=2.8.4 in /usr/local/lib/python3.10/dist-packages (from langchain==0.0.228->-r /content/privateGPT/requirements.txt (line 1)) (2.9.0)\n",
            "Requirement already satisfied: numpy<2,>=1 in /usr/local/lib/python3.10/dist-packages (from langchain==0.0.228->-r /content/privateGPT/requirements.txt (line 1)) (1.23.5)\n",
            "Requirement already satisfied: openapi-schema-pydantic<2.0,>=1.2 in /usr/local/lib/python3.10/dist-packages (from langchain==0.0.228->-r /content/privateGPT/requirements.txt (line 1)) (1.2.4)\n",
            "Requirement already satisfied: pydantic<2,>=1 in /usr/local/lib/python3.10/dist-packages (from langchain==0.0.228->-r /content/privateGPT/requirements.txt (line 1)) (1.10.14)\n",
            "Requirement already satisfied: requests<3,>=2 in /usr/local/lib/python3.10/dist-packages (from langchain==0.0.228->-r /content/privateGPT/requirements.txt (line 1)) (2.31.0)\n",
            "Requirement already satisfied: tenacity<9.0.0,>=8.1.0 in /usr/local/lib/python3.10/dist-packages (from langchain==0.0.228->-r /content/privateGPT/requirements.txt (line 1)) (8.2.3)\n",
            "Requirement already satisfied: pandas>=1.3 in /usr/local/lib/python3.10/dist-packages (from chromadb==0.3.26->-r /content/privateGPT/requirements.txt (line 3)) (1.5.3)\n",
            "Requirement already satisfied: hnswlib>=0.7 in /usr/local/lib/python3.10/dist-packages (from chromadb==0.3.26->-r /content/privateGPT/requirements.txt (line 3)) (0.8.0)\n",
            "Requirement already satisfied: clickhouse-connect>=0.5.7 in /usr/local/lib/python3.10/dist-packages (from chromadb==0.3.26->-r /content/privateGPT/requirements.txt (line 3)) (0.7.0)\n",
            "Requirement already satisfied: duckdb>=0.7.1 in /usr/local/lib/python3.10/dist-packages (from chromadb==0.3.26->-r /content/privateGPT/requirements.txt (line 3)) (0.9.2)\n",
            "Requirement already satisfied: fastapi>=0.85.1 in /usr/local/lib/python3.10/dist-packages (from chromadb==0.3.26->-r /content/privateGPT/requirements.txt (line 3)) (0.109.2)\n",
            "Requirement already satisfied: uvicorn[standard]>=0.18.3 in /usr/local/lib/python3.10/dist-packages (from chromadb==0.3.26->-r /content/privateGPT/requirements.txt (line 3)) (0.27.1)\n",
            "Requirement already satisfied: posthog>=2.4.0 in /usr/local/lib/python3.10/dist-packages (from chromadb==0.3.26->-r /content/privateGPT/requirements.txt (line 3)) (3.4.1)\n",
            "Requirement already satisfied: typing-extensions>=4.5.0 in /usr/local/lib/python3.10/dist-packages (from chromadb==0.3.26->-r /content/privateGPT/requirements.txt (line 3)) (4.9.0)\n",
            "Requirement already satisfied: pulsar-client>=3.1.0 in /usr/local/lib/python3.10/dist-packages (from chromadb==0.3.26->-r /content/privateGPT/requirements.txt (line 3)) (3.4.0)\n",
            "Requirement already satisfied: onnxruntime>=1.14.1 in /usr/local/lib/python3.10/dist-packages (from chromadb==0.3.26->-r /content/privateGPT/requirements.txt (line 3)) (1.17.0)\n",
            "Requirement already satisfied: tokenizers>=0.13.2 in /usr/local/lib/python3.10/dist-packages (from chromadb==0.3.26->-r /content/privateGPT/requirements.txt (line 3)) (0.15.1)\n",
            "Requirement already satisfied: overrides>=7.3.1 in /usr/local/lib/python3.10/dist-packages (from chromadb==0.3.26->-r /content/privateGPT/requirements.txt (line 3)) (7.7.0)\n",
            "Requirement already satisfied: diskcache>=5.6.1 in /usr/local/lib/python3.10/dist-packages (from llama-cpp-python==0.1.68->-r /content/privateGPT/requirements.txt (line 4)) (5.6.3)\n",
            "Requirement already satisfied: argilla in /usr/local/lib/python3.10/dist-packages (from unstructured==0.8.0->-r /content/privateGPT/requirements.txt (line 8)) (1.24.0)\n",
            "Requirement already satisfied: chardet in /usr/local/lib/python3.10/dist-packages (from unstructured==0.8.0->-r /content/privateGPT/requirements.txt (line 8)) (5.2.0)\n",
            "Requirement already satisfied: filetype in /usr/local/lib/python3.10/dist-packages (from unstructured==0.8.0->-r /content/privateGPT/requirements.txt (line 8)) (1.2.0)\n",
            "Requirement already satisfied: lxml in /usr/local/lib/python3.10/dist-packages (from unstructured==0.8.0->-r /content/privateGPT/requirements.txt (line 8)) (4.9.4)\n",
            "Requirement already satisfied: msg-parser in /usr/local/lib/python3.10/dist-packages (from unstructured==0.8.0->-r /content/privateGPT/requirements.txt (line 8)) (1.2.0)\n",
            "Requirement already satisfied: nltk in /usr/local/lib/python3.10/dist-packages (from unstructured==0.8.0->-r /content/privateGPT/requirements.txt (line 8)) (3.8.1)\n",
            "Requirement already satisfied: openpyxl in /usr/local/lib/python3.10/dist-packages (from unstructured==0.8.0->-r /content/privateGPT/requirements.txt (line 8)) (3.1.2)\n",
            "Requirement already satisfied: pdf2image in /usr/local/lib/python3.10/dist-packages (from unstructured==0.8.0->-r /content/privateGPT/requirements.txt (line 8)) (1.17.0)\n",
            "Requirement already satisfied: pdfminer.six in /usr/local/lib/python3.10/dist-packages (from unstructured==0.8.0->-r /content/privateGPT/requirements.txt (line 8)) (20231228)\n",
            "Requirement already satisfied: pillow in /usr/local/lib/python3.10/dist-packages (from unstructured==0.8.0->-r /content/privateGPT/requirements.txt (line 8)) (9.4.0)\n",
            "Requirement already satisfied: python-docx in /usr/local/lib/python3.10/dist-packages (from unstructured==0.8.0->-r /content/privateGPT/requirements.txt (line 8)) (1.1.0)\n",
            "Requirement already satisfied: python-pptx in /usr/local/lib/python3.10/dist-packages (from unstructured==0.8.0->-r /content/privateGPT/requirements.txt (line 8)) (0.6.23)\n",
            "Requirement already satisfied: python-magic in /usr/local/lib/python3.10/dist-packages (from unstructured==0.8.0->-r /content/privateGPT/requirements.txt (line 8)) (0.4.27)\n",
            "Requirement already satisfied: markdown in /usr/local/lib/python3.10/dist-packages (from unstructured==0.8.0->-r /content/privateGPT/requirements.txt (line 8)) (3.5.2)\n",
            "Requirement already satisfied: xlrd in /usr/local/lib/python3.10/dist-packages (from unstructured==0.8.0->-r /content/privateGPT/requirements.txt (line 8)) (2.0.1)\n",
            "Requirement already satisfied: imapclient<3,>=2.3.0 in /usr/local/lib/python3.10/dist-packages (from extract-msg==0.41.5->-r /content/privateGPT/requirements.txt (line 9)) (2.3.1)\n",
            "Requirement already satisfied: olefile==0.46 in /usr/local/lib/python3.10/dist-packages (from extract-msg==0.41.5->-r /content/privateGPT/requirements.txt (line 9)) (0.46)\n",
            "Requirement already satisfied: tzlocal<6,>=4.2 in /usr/local/lib/python3.10/dist-packages (from extract-msg==0.41.5->-r /content/privateGPT/requirements.txt (line 9)) (5.2)\n",
            "Requirement already satisfied: compressed-rtf<2,>=1.0.6 in /usr/local/lib/python3.10/dist-packages (from extract-msg==0.41.5->-r /content/privateGPT/requirements.txt (line 9)) (1.0.6)\n",
            "Requirement already satisfied: ebcdic<2,>=1.1.1 in /usr/local/lib/python3.10/dist-packages (from extract-msg==0.41.5->-r /content/privateGPT/requirements.txt (line 9)) (1.1.1)\n",
            "Requirement already satisfied: beautifulsoup4<4.13,>=4.11.1 in /usr/local/lib/python3.10/dist-packages (from extract-msg==0.41.5->-r /content/privateGPT/requirements.txt (line 9)) (4.12.3)\n",
            "Requirement already satisfied: RTFDE==0.0.2 in /usr/local/lib/python3.10/dist-packages (from extract-msg==0.41.5->-r /content/privateGPT/requirements.txt (line 9)) (0.0.2)\n",
            "Requirement already satisfied: red-black-tree-mod==1.20 in /usr/local/lib/python3.10/dist-packages (from extract-msg==0.41.5->-r /content/privateGPT/requirements.txt (line 9)) (1.20)\n",
            "Requirement already satisfied: plumbum in /usr/local/lib/python3.10/dist-packages (from pandoc==2.3->-r /content/privateGPT/requirements.txt (line 11)) (1.8.2)\n",
            "Requirement already satisfied: ply in /usr/local/lib/python3.10/dist-packages (from pandoc==2.3->-r /content/privateGPT/requirements.txt (line 11)) (3.11)\n",
            "Requirement already satisfied: lark-parser>=0.11 in /usr/local/lib/python3.10/dist-packages (from RTFDE==0.0.2->extract-msg==0.41.5->-r /content/privateGPT/requirements.txt (line 9)) (0.12.0)\n",
            "Requirement already satisfied: oletools>=0.56 in /usr/local/lib/python3.10/dist-packages (from RTFDE==0.0.2->extract-msg==0.41.5->-r /content/privateGPT/requirements.txt (line 9)) (0.60.1)\n",
            "Requirement already satisfied: aiosignal>=1.1.2 in /usr/local/lib/python3.10/dist-packages (from aiohttp<4.0.0,>=3.8.3->langchain==0.0.228->-r /content/privateGPT/requirements.txt (line 1)) (1.3.1)\n",
            "Requirement already satisfied: attrs>=17.3.0 in /usr/local/lib/python3.10/dist-packages (from aiohttp<4.0.0,>=3.8.3->langchain==0.0.228->-r /content/privateGPT/requirements.txt (line 1)) (23.2.0)\n",
            "Requirement already satisfied: frozenlist>=1.1.1 in /usr/local/lib/python3.10/dist-packages (from aiohttp<4.0.0,>=3.8.3->langchain==0.0.228->-r /content/privateGPT/requirements.txt (line 1)) (1.4.1)\n",
            "Requirement already satisfied: multidict<7.0,>=4.5 in /usr/local/lib/python3.10/dist-packages (from aiohttp<4.0.0,>=3.8.3->langchain==0.0.228->-r /content/privateGPT/requirements.txt (line 1)) (6.0.5)\n",
            "Requirement already satisfied: yarl<2.0,>=1.0 in /usr/local/lib/python3.10/dist-packages (from aiohttp<4.0.0,>=3.8.3->langchain==0.0.228->-r /content/privateGPT/requirements.txt (line 1)) (1.9.4)\n",
            "Requirement already satisfied: soupsieve>1.2 in /usr/local/lib/python3.10/dist-packages (from beautifulsoup4<4.13,>=4.11.1->extract-msg==0.41.5->-r /content/privateGPT/requirements.txt (line 9)) (2.5)\n",
            "Requirement already satisfied: certifi in /usr/local/lib/python3.10/dist-packages (from clickhouse-connect>=0.5.7->chromadb==0.3.26->-r /content/privateGPT/requirements.txt (line 3)) (2024.2.2)\n",
            "Requirement already satisfied: pytz in /usr/local/lib/python3.10/dist-packages (from clickhouse-connect>=0.5.7->chromadb==0.3.26->-r /content/privateGPT/requirements.txt (line 3)) (2023.4)\n",
            "Requirement already satisfied: zstandard in /usr/local/lib/python3.10/dist-packages (from clickhouse-connect>=0.5.7->chromadb==0.3.26->-r /content/privateGPT/requirements.txt (line 3)) (0.22.0)\n",
            "Requirement already satisfied: lz4 in /usr/local/lib/python3.10/dist-packages (from clickhouse-connect>=0.5.7->chromadb==0.3.26->-r /content/privateGPT/requirements.txt (line 3)) (4.3.3)\n",
            "Requirement already satisfied: marshmallow<4.0.0,>=3.18.0 in /usr/local/lib/python3.10/dist-packages (from dataclasses-json<0.6.0,>=0.5.7->langchain==0.0.228->-r /content/privateGPT/requirements.txt (line 1)) (3.20.2)\n",
            "Requirement already satisfied: typing-inspect<1,>=0.4.0 in /usr/local/lib/python3.10/dist-packages (from dataclasses-json<0.6.0,>=0.5.7->langchain==0.0.228->-r /content/privateGPT/requirements.txt (line 1)) (0.9.0)\n",
            "Requirement already satisfied: starlette<0.37.0,>=0.36.3 in /usr/local/lib/python3.10/dist-packages (from fastapi>=0.85.1->chromadb==0.3.26->-r /content/privateGPT/requirements.txt (line 3)) (0.36.3)\n",
            "Requirement already satisfied: six in /usr/local/lib/python3.10/dist-packages (from imapclient<3,>=2.3.0->extract-msg==0.41.5->-r /content/privateGPT/requirements.txt (line 9)) (1.16.0)\n",
            "Requirement already satisfied: coloredlogs in /usr/local/lib/python3.10/dist-packages (from onnxruntime>=1.14.1->chromadb==0.3.26->-r /content/privateGPT/requirements.txt (line 3)) (15.0.1)\n",
            "Requirement already satisfied: flatbuffers in /usr/local/lib/python3.10/dist-packages (from onnxruntime>=1.14.1->chromadb==0.3.26->-r /content/privateGPT/requirements.txt (line 3)) (23.5.26)\n",
            "Requirement already satisfied: packaging in /usr/local/lib/python3.10/dist-packages (from onnxruntime>=1.14.1->chromadb==0.3.26->-r /content/privateGPT/requirements.txt (line 3)) (23.2)\n",
            "Requirement already satisfied: protobuf in /usr/local/lib/python3.10/dist-packages (from onnxruntime>=1.14.1->chromadb==0.3.26->-r /content/privateGPT/requirements.txt (line 3)) (3.20.3)\n",
            "Requirement already satisfied: sympy in /usr/local/lib/python3.10/dist-packages (from onnxruntime>=1.14.1->chromadb==0.3.26->-r /content/privateGPT/requirements.txt (line 3)) (1.12)\n",
            "Requirement already satisfied: python-dateutil>=2.8.1 in /usr/local/lib/python3.10/dist-packages (from pandas>=1.3->chromadb==0.3.26->-r /content/privateGPT/requirements.txt (line 3)) (2.8.2)\n",
            "Requirement already satisfied: monotonic>=1.5 in /usr/local/lib/python3.10/dist-packages (from posthog>=2.4.0->chromadb==0.3.26->-r /content/privateGPT/requirements.txt (line 3)) (1.6)\n",
            "Requirement already satisfied: backoff>=1.10.0 in /usr/local/lib/python3.10/dist-packages (from posthog>=2.4.0->chromadb==0.3.26->-r /content/privateGPT/requirements.txt (line 3)) (2.2.1)\n",
            "Requirement already satisfied: charset-normalizer<4,>=2 in /usr/local/lib/python3.10/dist-packages (from requests<3,>=2->langchain==0.0.228->-r /content/privateGPT/requirements.txt (line 1)) (3.3.2)\n",
            "Requirement already satisfied: idna<4,>=2.5 in /usr/local/lib/python3.10/dist-packages (from requests<3,>=2->langchain==0.0.228->-r /content/privateGPT/requirements.txt (line 1)) (3.6)\n",
            "Requirement already satisfied: greenlet!=0.4.17 in /usr/local/lib/python3.10/dist-packages (from SQLAlchemy<3,>=1.4->langchain==0.0.228->-r /content/privateGPT/requirements.txt (line 1)) (3.0.3)\n",
            "Requirement already satisfied: huggingface_hub<1.0,>=0.16.4 in /usr/local/lib/python3.10/dist-packages (from tokenizers>=0.13.2->chromadb==0.3.26->-r /content/privateGPT/requirements.txt (line 3)) (0.20.3)\n",
            "Requirement already satisfied: click>=7.0 in /usr/local/lib/python3.10/dist-packages (from uvicorn[standard]>=0.18.3->chromadb==0.3.26->-r /content/privateGPT/requirements.txt (line 3)) (8.1.7)\n",
            "Requirement already satisfied: h11>=0.8 in /usr/local/lib/python3.10/dist-packages (from uvicorn[standard]>=0.18.3->chromadb==0.3.26->-r /content/privateGPT/requirements.txt (line 3)) (0.14.0)\n",
            "Requirement already satisfied: httptools>=0.5.0 in /usr/local/lib/python3.10/dist-packages (from uvicorn[standard]>=0.18.3->chromadb==0.3.26->-r /content/privateGPT/requirements.txt (line 3)) (0.6.1)\n",
            "Requirement already satisfied: uvloop!=0.15.0,!=0.15.1,>=0.14.0 in /usr/local/lib/python3.10/dist-packages (from uvicorn[standard]>=0.18.3->chromadb==0.3.26->-r /content/privateGPT/requirements.txt (line 3)) (0.19.0)\n",
            "Requirement already satisfied: watchfiles>=0.13 in /usr/local/lib/python3.10/dist-packages (from uvicorn[standard]>=0.18.3->chromadb==0.3.26->-r /content/privateGPT/requirements.txt (line 3)) (0.21.0)\n",
            "Requirement already satisfied: websockets>=10.4 in /usr/local/lib/python3.10/dist-packages (from uvicorn[standard]>=0.18.3->chromadb==0.3.26->-r /content/privateGPT/requirements.txt (line 3)) (12.0)\n",
            "Requirement already satisfied: httpx<=0.26,>=0.15 in /usr/local/lib/python3.10/dist-packages (from argilla->unstructured==0.8.0->-r /content/privateGPT/requirements.txt (line 8)) (0.26.0)\n",
            "Requirement already satisfied: deprecated~=1.2.0 in /usr/local/lib/python3.10/dist-packages (from argilla->unstructured==0.8.0->-r /content/privateGPT/requirements.txt (line 8)) (1.2.14)\n",
            "Requirement already satisfied: wrapt<1.15,>=1.13 in /usr/local/lib/python3.10/dist-packages (from argilla->unstructured==0.8.0->-r /content/privateGPT/requirements.txt (line 8)) (1.14.1)\n",
            "Requirement already satisfied: rich!=13.1.0 in /usr/local/lib/python3.10/dist-packages (from argilla->unstructured==0.8.0->-r /content/privateGPT/requirements.txt (line 8)) (13.7.0)\n",
            "Requirement already satisfied: typer<0.10.0,>=0.6.0 in /usr/local/lib/python3.10/dist-packages (from argilla->unstructured==0.8.0->-r /content/privateGPT/requirements.txt (line 8)) (0.9.0)\n",
            "Requirement already satisfied: joblib in /usr/local/lib/python3.10/dist-packages (from nltk->unstructured==0.8.0->-r /content/privateGPT/requirements.txt (line 8)) (1.3.2)\n",
            "Requirement already satisfied: regex>=2021.8.3 in /usr/local/lib/python3.10/dist-packages (from nltk->unstructured==0.8.0->-r /content/privateGPT/requirements.txt (line 8)) (2023.12.25)\n",
            "Requirement already satisfied: et-xmlfile in /usr/local/lib/python3.10/dist-packages (from openpyxl->unstructured==0.8.0->-r /content/privateGPT/requirements.txt (line 8)) (1.1.0)\n",
            "Requirement already satisfied: cryptography>=36.0.0 in /usr/local/lib/python3.10/dist-packages (from pdfminer.six->unstructured==0.8.0->-r /content/privateGPT/requirements.txt (line 8)) (42.0.2)\n",
            "Requirement already satisfied: XlsxWriter>=0.5.7 in /usr/local/lib/python3.10/dist-packages (from python-pptx->unstructured==0.8.0->-r /content/privateGPT/requirements.txt (line 8)) (3.1.9)\n",
            "Requirement already satisfied: cffi>=1.12 in /usr/local/lib/python3.10/dist-packages (from cryptography>=36.0.0->pdfminer.six->unstructured==0.8.0->-r /content/privateGPT/requirements.txt (line 8)) (1.16.0)\n",
            "Requirement already satisfied: anyio in /usr/local/lib/python3.10/dist-packages (from httpx<=0.26,>=0.15->argilla->unstructured==0.8.0->-r /content/privateGPT/requirements.txt (line 8)) (3.7.1)\n",
            "Requirement already satisfied: httpcore==1.* in /usr/local/lib/python3.10/dist-packages (from httpx<=0.26,>=0.15->argilla->unstructured==0.8.0->-r /content/privateGPT/requirements.txt (line 8)) (1.0.3)\n",
            "Requirement already satisfied: sniffio in /usr/local/lib/python3.10/dist-packages (from httpx<=0.26,>=0.15->argilla->unstructured==0.8.0->-r /content/privateGPT/requirements.txt (line 8)) (1.3.0)\n",
            "Requirement already satisfied: filelock in /usr/local/lib/python3.10/dist-packages (from huggingface_hub<1.0,>=0.16.4->tokenizers>=0.13.2->chromadb==0.3.26->-r /content/privateGPT/requirements.txt (line 3)) (3.13.1)\n",
            "Requirement already satisfied: fsspec>=2023.5.0 in /usr/local/lib/python3.10/dist-packages (from huggingface_hub<1.0,>=0.16.4->tokenizers>=0.13.2->chromadb==0.3.26->-r /content/privateGPT/requirements.txt (line 3)) (2023.6.0)\n",
            "Requirement already satisfied: pyparsing<3,>=2.1.0 in /usr/local/lib/python3.10/dist-packages (from oletools>=0.56->RTFDE==0.0.2->extract-msg==0.41.5->-r /content/privateGPT/requirements.txt (line 9)) (2.4.7)\n",
            "Requirement already satisfied: easygui in /usr/local/lib/python3.10/dist-packages (from oletools>=0.56->RTFDE==0.0.2->extract-msg==0.41.5->-r /content/privateGPT/requirements.txt (line 9)) (0.98.3)\n",
            "Requirement already satisfied: colorclass in /usr/local/lib/python3.10/dist-packages (from oletools>=0.56->RTFDE==0.0.2->extract-msg==0.41.5->-r /content/privateGPT/requirements.txt (line 9)) (2.2.2)\n",
            "Requirement already satisfied: pcodedmp>=1.2.5 in /usr/local/lib/python3.10/dist-packages (from oletools>=0.56->RTFDE==0.0.2->extract-msg==0.41.5->-r /content/privateGPT/requirements.txt (line 9)) (1.2.6)\n",
            "Requirement already satisfied: msoffcrypto-tool in /usr/local/lib/python3.10/dist-packages (from oletools>=0.56->RTFDE==0.0.2->extract-msg==0.41.5->-r /content/privateGPT/requirements.txt (line 9)) (5.3.1)\n",
            "Requirement already satisfied: markdown-it-py>=2.2.0 in /usr/local/lib/python3.10/dist-packages (from rich!=13.1.0->argilla->unstructured==0.8.0->-r /content/privateGPT/requirements.txt (line 8)) (3.0.0)\n",
            "Requirement already satisfied: pygments<3.0.0,>=2.13.0 in /usr/local/lib/python3.10/dist-packages (from rich!=13.1.0->argilla->unstructured==0.8.0->-r /content/privateGPT/requirements.txt (line 8)) (2.16.1)\n",
            "Requirement already satisfied: mypy-extensions>=0.3.0 in /usr/local/lib/python3.10/dist-packages (from typing-inspect<1,>=0.4.0->dataclasses-json<0.6.0,>=0.5.7->langchain==0.0.228->-r /content/privateGPT/requirements.txt (line 1)) (1.0.0)\n",
            "Requirement already satisfied: humanfriendly>=9.1 in /usr/local/lib/python3.10/dist-packages (from coloredlogs->onnxruntime>=1.14.1->chromadb==0.3.26->-r /content/privateGPT/requirements.txt (line 3)) (10.0)\n",
            "Requirement already satisfied: mpmath>=0.19 in /usr/local/lib/python3.10/dist-packages (from sympy->onnxruntime>=1.14.1->chromadb==0.3.26->-r /content/privateGPT/requirements.txt (line 3)) (1.3.0)\n",
            "Requirement already satisfied: exceptiongroup in /usr/local/lib/python3.10/dist-packages (from anyio->httpx<=0.26,>=0.15->argilla->unstructured==0.8.0->-r /content/privateGPT/requirements.txt (line 8)) (1.2.0)\n",
            "Requirement already satisfied: pycparser in /usr/local/lib/python3.10/dist-packages (from cffi>=1.12->cryptography>=36.0.0->pdfminer.six->unstructured==0.8.0->-r /content/privateGPT/requirements.txt (line 8)) (2.21)\n",
            "Requirement already satisfied: mdurl~=0.1 in /usr/local/lib/python3.10/dist-packages (from markdown-it-py>=2.2.0->rich!=13.1.0->argilla->unstructured==0.8.0->-r /content/privateGPT/requirements.txt (line 8)) (0.1.2)\n",
            "Requirement already satisfied: sentence_transformers in /usr/local/lib/python3.10/dist-packages (2.3.1)\n",
            "Requirement already satisfied: transformers<5.0.0,>=4.32.0 in /usr/local/lib/python3.10/dist-packages (from sentence_transformers) (4.35.2)\n",
            "Requirement already satisfied: tqdm in /usr/local/lib/python3.10/dist-packages (from sentence_transformers) (4.65.0)\n",
            "Requirement already satisfied: torch>=1.11.0 in /usr/local/lib/python3.10/dist-packages (from sentence_transformers) (2.1.0+cu121)\n",
            "Requirement already satisfied: numpy in /usr/local/lib/python3.10/dist-packages (from sentence_transformers) (1.23.5)\n",
            "Requirement already satisfied: scikit-learn in /usr/local/lib/python3.10/dist-packages (from sentence_transformers) (1.2.2)\n",
            "Requirement already satisfied: scipy in /usr/local/lib/python3.10/dist-packages (from sentence_transformers) (1.11.4)\n",
            "Requirement already satisfied: nltk in /usr/local/lib/python3.10/dist-packages (from sentence_transformers) (3.8.1)\n",
            "Requirement already satisfied: sentencepiece in /usr/local/lib/python3.10/dist-packages (from sentence_transformers) (0.1.99)\n",
            "Requirement already satisfied: huggingface-hub>=0.15.1 in /usr/local/lib/python3.10/dist-packages (from sentence_transformers) (0.20.3)\n",
            "Requirement already satisfied: Pillow in /usr/local/lib/python3.10/dist-packages (from sentence_transformers) (9.4.0)\n",
            "Requirement already satisfied: filelock in /usr/local/lib/python3.10/dist-packages (from huggingface-hub>=0.15.1->sentence_transformers) (3.13.1)\n",
            "Requirement already satisfied: fsspec>=2023.5.0 in /usr/local/lib/python3.10/dist-packages (from huggingface-hub>=0.15.1->sentence_transformers) (2023.6.0)\n",
            "Requirement already satisfied: requests in /usr/local/lib/python3.10/dist-packages (from huggingface-hub>=0.15.1->sentence_transformers) (2.31.0)\n",
            "Requirement already satisfied: pyyaml>=5.1 in /usr/local/lib/python3.10/dist-packages (from huggingface-hub>=0.15.1->sentence_transformers) (6.0.1)\n",
            "Requirement already satisfied: typing-extensions>=3.7.4.3 in /usr/local/lib/python3.10/dist-packages (from huggingface-hub>=0.15.1->sentence_transformers) (4.9.0)\n",
            "Requirement already satisfied: packaging>=20.9 in /usr/local/lib/python3.10/dist-packages (from huggingface-hub>=0.15.1->sentence_transformers) (23.2)\n",
            "Requirement already satisfied: sympy in /usr/local/lib/python3.10/dist-packages (from torch>=1.11.0->sentence_transformers) (1.12)\n",
            "Requirement already satisfied: networkx in /usr/local/lib/python3.10/dist-packages (from torch>=1.11.0->sentence_transformers) (3.2.1)\n",
            "Requirement already satisfied: jinja2 in /usr/local/lib/python3.10/dist-packages (from torch>=1.11.0->sentence_transformers) (3.1.3)\n",
            "Requirement already satisfied: triton==2.1.0 in /usr/local/lib/python3.10/dist-packages (from torch>=1.11.0->sentence_transformers) (2.1.0)\n",
            "Requirement already satisfied: regex!=2019.12.17 in /usr/local/lib/python3.10/dist-packages (from transformers<5.0.0,>=4.32.0->sentence_transformers) (2023.12.25)\n",
            "Requirement already satisfied: tokenizers<0.19,>=0.14 in /usr/local/lib/python3.10/dist-packages (from transformers<5.0.0,>=4.32.0->sentence_transformers) (0.15.1)\n",
            "Requirement already satisfied: safetensors>=0.3.1 in /usr/local/lib/python3.10/dist-packages (from transformers<5.0.0,>=4.32.0->sentence_transformers) (0.4.2)\n",
            "Requirement already satisfied: click in /usr/local/lib/python3.10/dist-packages (from nltk->sentence_transformers) (8.1.7)\n",
            "Requirement already satisfied: joblib in /usr/local/lib/python3.10/dist-packages (from nltk->sentence_transformers) (1.3.2)\n",
            "Requirement already satisfied: threadpoolctl>=2.0.0 in /usr/local/lib/python3.10/dist-packages (from scikit-learn->sentence_transformers) (3.2.0)\n",
            "Requirement already satisfied: MarkupSafe>=2.0 in /usr/local/lib/python3.10/dist-packages (from jinja2->torch>=1.11.0->sentence_transformers) (2.1.5)\n",
            "Requirement already satisfied: charset-normalizer<4,>=2 in /usr/local/lib/python3.10/dist-packages (from requests->huggingface-hub>=0.15.1->sentence_transformers) (3.3.2)\n",
            "Requirement already satisfied: idna<4,>=2.5 in /usr/local/lib/python3.10/dist-packages (from requests->huggingface-hub>=0.15.1->sentence_transformers) (3.6)\n",
            "Requirement already satisfied: urllib3<3,>=1.21.1 in /usr/local/lib/python3.10/dist-packages (from requests->huggingface-hub>=0.15.1->sentence_transformers) (2.0.3)\n",
            "Requirement already satisfied: certifi>=2017.4.17 in /usr/local/lib/python3.10/dist-packages (from requests->huggingface-hub>=0.15.1->sentence_transformers) (2024.2.2)\n",
            "Requirement already satisfied: mpmath>=0.19 in /usr/local/lib/python3.10/dist-packages (from sympy->torch>=1.11.0->sentence_transformers) (1.3.0)\n",
            "Requirement already satisfied: huggingface_hub in /usr/local/lib/python3.10/dist-packages (0.20.3)\n",
            "Requirement already satisfied: filelock in /usr/local/lib/python3.10/dist-packages (from huggingface_hub) (3.13.1)\n",
            "Requirement already satisfied: fsspec>=2023.5.0 in /usr/local/lib/python3.10/dist-packages (from huggingface_hub) (2023.6.0)\n",
            "Requirement already satisfied: requests in /usr/local/lib/python3.10/dist-packages (from huggingface_hub) (2.31.0)\n",
            "Requirement already satisfied: tqdm>=4.42.1 in /usr/local/lib/python3.10/dist-packages (from huggingface_hub) (4.65.0)\n",
            "Requirement already satisfied: pyyaml>=5.1 in /usr/local/lib/python3.10/dist-packages (from huggingface_hub) (6.0.1)\n",
            "Requirement already satisfied: typing-extensions>=3.7.4.3 in /usr/local/lib/python3.10/dist-packages (from huggingface_hub) (4.9.0)\n",
            "Requirement already satisfied: packaging>=20.9 in /usr/local/lib/python3.10/dist-packages (from huggingface_hub) (23.2)\n",
            "Requirement already satisfied: charset-normalizer<4,>=2 in /usr/local/lib/python3.10/dist-packages (from requests->huggingface_hub) (3.3.2)\n",
            "Requirement already satisfied: idna<4,>=2.5 in /usr/local/lib/python3.10/dist-packages (from requests->huggingface_hub) (3.6)\n",
            "Requirement already satisfied: urllib3<3,>=1.21.1 in /usr/local/lib/python3.10/dist-packages (from requests->huggingface_hub) (2.0.3)\n",
            "Requirement already satisfied: certifi>=2017.4.17 in /usr/local/lib/python3.10/dist-packages (from requests->huggingface_hub) (2024.2.2)\n",
            "/bin/bash: -c: line 1: unexpected EOF while looking for matching `\"'\n",
            "/bin/bash: -c: line 2: syntax error: unexpected end of file\n"
          ]
        }
      ]
    },
    {
      "cell_type": "markdown",
      "source": [
        "# Download the Model (Nous-Hermes-Llama2-GGML)"
      ],
      "metadata": {
        "id": "qcsRDmgseAeF"
      }
    },
    {
      "cell_type": "code",
      "source": [
        "from huggingface_hub import hf_hub_download\n",
        "\n",
        "hf_hub_download(repo_id=\"TheBloke/Nous-Hermes-Llama2-GGML\", filename=\"nous-hermes-llama2-13b.ggmlv3.q4_1.bin\", local_dir=\"/content/privateGPT/models/\")"
      ],
      "metadata": {
        "id": "4IlmSlKuAJBs",
        "outputId": "d500846b-0b43-4d69-f0b4-60e8b678cc7a",
        "colab": {
          "base_uri": "https://localhost:8080/",
          "height": 36
        }
      },
      "execution_count": null,
      "outputs": [
        {
          "output_type": "execute_result",
          "data": {
            "text/plain": [
              "'/content/privateGPT/models/nous-hermes-llama2-13b.ggmlv3.q4_1.bin'"
            ],
            "application/vnd.google.colaboratory.intrinsic+json": {
              "type": "string"
            }
          },
          "metadata": {},
          "execution_count": 11
        }
      ]
    },
    {
      "cell_type": "markdown",
      "source": [
        "# Ingest your documents and create a database"
      ],
      "metadata": {
        "id": "uZGmSkyjeleS"
      }
    },
    {
      "cell_type": "code",
      "source": [
        "!python /content/privateGPT/ingest.py"
      ],
      "metadata": {
        "id": "WncT6FB5EV5a",
        "outputId": "3a315d74-2892-402d-f667-61b0753f7cc5",
        "colab": {
          "base_uri": "https://localhost:8080/"
        }
      },
      "execution_count": null,
      "outputs": [
        {
          "output_type": "stream",
          "name": "stdout",
          "text": [
            "Appending to existing vectorstore at db\n",
            "Loading documents from /content/privateGPT/source_documents/\n",
            "Loading new documents: 100%|█████████████████████| 1/1 [00:00<00:00, 401.68it/s]\n",
            "Loaded 1 new documents from /content/privateGPT/source_documents/\n",
            "Split into 67 chunks of text (max. 500 tokens each)\n",
            "Creating embeddings. May take some minutes...\n",
            "Ingestion complete! You can now run privateGPT.py to query your documents\n"
          ]
        }
      ]
    },
    {
      "cell_type": "markdown",
      "source": [
        "# Chat with your document (wait for \"Enter Query:\")"
      ],
      "metadata": {
        "id": "jwQGLChJe2bg"
      }
    },
    {
      "cell_type": "code",
      "source": [
        "!python /content/privateGPT/privateGPT.py"
      ],
      "metadata": {
        "id": "_VEK2ukYPfnI",
        "outputId": "2a20b942-b72a-4798-d717-14421a369155",
        "colab": {
          "base_uri": "https://localhost:8080/"
        }
      },
      "execution_count": null,
      "outputs": [
        {
          "metadata": {
            "tags": null
          },
          "name": "stdout",
          "output_type": "stream",
          "text": [
            "llama.cpp: loading model from /content/privateGPT/models/nous-hermes-llama2-13b.ggmlv3.q4_1.bin\n",
            "llama_model_load_internal: format     = ggjt v3 (latest)\n",
            "llama_model_load_internal: n_vocab    = 32032\n",
            "llama_model_load_internal: n_ctx      = 2048\n",
            "llama_model_load_internal: n_embd     = 5120\n",
            "llama_model_load_internal: n_mult     = 256\n",
            "llama_model_load_internal: n_head     = 40\n",
            "llama_model_load_internal: n_layer    = 40\n",
            "llama_model_load_internal: n_rot      = 128\n",
            "llama_model_load_internal: ftype      = 3 (mostly Q4_1)\n",
            "llama_model_load_internal: n_ff       = 13824\n",
            "llama_model_load_internal: model size = 13B\n",
            "llama_model_load_internal: ggml ctx size =    0.09 MB\n",
            "llama_model_load_internal: mem required  = 9807.68 MB (+ 1608.00 MB per state)\n",
            "llama_new_context_with_model: kv self size  = 1600.00 MB\n",
            "\n",
            "Enter a query: can you tell me India's current GDP\n",
            " India's current GDP is not readily available, as the information provided only covers the estimates for 2023-24. Could you please clarify what specific year or timeframe you are referring to?\n",
            "\n",
            "> Question:\n",
            "can you tell me India's current GDP\n",
            "\n",
            "> Answer (took 587.19 s.):\n",
            " India's current GDP is not readily available, as the information provided only covers the estimates for 2023-24. Could you please clarify what specific year or timeframe you are referring to?\n",
            "\n",
            "> /content/privateGPT/source_documents/budget-details.txt:\n",
            "the central government’s revenue deficit is expected to be 4.1% of GDP against a budget estimate of 3.8% of\n",
            "GDP.\n",
            "▪ GDP growth estimate: The nominal GDP is estimated to grow at a rate of 10.5% in 2023-24.\n",
            "Defence: The Ministry of Defence has been allocated Rs 5,93,538 crore which is the largest across all ministries\n",
            "and accounts for over 13% of the total expenditure of the central government. Over the last decade, the\n",
            "\n",
            "> /content/privateGPT/source_documents/bh1.txt:\n",
            "5.8\n",
            "      Per cent of GDP\n",
            "\n",
            "> /content/privateGPT/source_documents/budget-details.txt:\n",
            "▪ GDP: The government has estimated a nominal GDP growth rate of 10.5% in 2023-24 (i.e., real growth\n",
            "plus inflation).\n",
            "▪ Deficits: Revenue deficit in 2023-24 is targeted at 2.9% of GDP, which is lower than the revised estimate\n",
            "of 4.1% in 2022-23. Fiscal deficit in 2023-24 is targeted at 5.9% of GDP, lower than the revised estimate\n",
            "of 6.4% of GDP in 2022-23. While the revised estimate as a percentage of GDP was the same as the budget\n",
            "\n",
            "> /content/privateGPT/source_documents/bh1.txt:\n",
            "2025\n",
            "\n",
            "\n",
            "\n",
            "\n",
            "                2023-24       2024-25                   2023-24   2024-25\n",
            "                 (BE)          (BE)                      (BE)      (BE)\n",
            "                                                                              9\n",
            "\f              Resilient Performance of the Indian Economy\n",
            "\n",
            "Enter a query: what was India's GDP in FY2023-24\n"
          ]
        }
      ]
    },
    {
      "cell_type": "code",
      "source": [],
      "metadata": {
        "id": "7kKI5wgUBkdB"
      },
      "execution_count": null,
      "outputs": []
    }
  ]
}